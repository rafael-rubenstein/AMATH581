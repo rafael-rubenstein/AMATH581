{
 "cells": [
  {
   "cell_type": "code",
   "execution_count": 1,
   "id": "22b30eb2",
   "metadata": {},
   "outputs": [],
   "source": [
    "import numpy as np\n",
    "import matplotlib.pyplot as plt"
   ]
  },
  {
   "cell_type": "code",
   "execution_count": 5,
   "id": "0f9b4baf",
   "metadata": {},
   "outputs": [
    {
     "name": "stdout",
     "output_type": "stream",
     "text": [
      "[-1.6         3.19799514  2.46440244  1.2035359   0.65020146 -0.11692334\n",
      " -0.66052349 -0.52192654 -0.56655274 -0.57074658 -0.57078962 -0.57078962]\n",
      "11\n"
     ]
    }
   ],
   "source": [
    "#Newton-Raphson method\n",
    "x = np.array([-1.6]) # initial guess\n",
    "for j in range(1000):\n",
    "    x = np.append(x, x[j]-(x[j]*np.sin(3*x[j]) - np.exp(x[j]))\n",
    "        / (np.sin(3*x[j]) + 3*x[j]*np.cos(3*x[j]) - np.exp(x[j])))\n",
    "    fc = x[j]*np.sin(3*x[j]) - np.exp(x[j])\n",
    "    if abs(fc) < 1e-6:\n",
    "        break\n",
    "\n",
    "A1 = x\n",
    "print(A1)\n",
    "count = j+1\n",
    "print(count)"
   ]
  },
  {
   "cell_type": "code",
   "execution_count": 6,
   "id": "24658a4d",
   "metadata": {},
   "outputs": [
    {
     "name": "stdout",
     "output_type": "stream",
     "text": [
      "[-0.55, -0.625, -0.5875, -0.5687500000000001, -0.578125, -0.5734375, -0.5710937500000001, -0.5699218750000001, -0.5705078125, -0.57080078125, -0.570654296875, -0.5707275390625, -0.57076416015625, -0.570782470703125, -0.5707916259765625, -0.5707870483398438, -0.5707893371582031]\n",
      "[11 17]\n"
     ]
    }
   ],
   "source": [
    "#Bisection method\n",
    "xr = -0.4; xl = -0.7\n",
    "A2 = []\n",
    "for j in range(1, 100):\n",
    "    xc = (xr + xl)/2\n",
    "    A2.append(xc)\n",
    "    fc = xc*np.sin(3*xc) - np.exp(xc)\n",
    "    if ( fc > 0 ):\n",
    "        xl = xc\n",
    "    else:\n",
    "        xr = xc\n",
    "    if ( abs(fc) < 1e-6 ):\n",
    "        #display(xc); display(j)\n",
    "        A3 = np.append(count,j)\n",
    "        break\n",
    "#A2 = xc\n",
    "print(A2)\n",
    "print(A3)"
   ]
  },
  {
   "cell_type": "markdown",
   "id": "08d3bbdb",
   "metadata": {},
   "source": [
    "## II"
   ]
  },
  {
   "cell_type": "code",
   "execution_count": 13,
   "id": "2a13d90b",
   "metadata": {},
   "outputs": [
    {
     "name": "stdout",
     "output_type": "stream",
     "text": [
      "(3,)\n"
     ]
    }
   ],
   "source": [
    "A = np.array([[1,2], [-1,1]])\n",
    "B = np.array([[2,0], [0,2]])\n",
    "C = np.array([[2,0,-3], [0,0,-1]])\n",
    "D = np.array([[1,2], [2,3], [-1,0]])\n",
    "x = np.array([1, 0])\n",
    "y = np.array([0, 1])\n",
    "z = np.array([1, 2, -1])\n",
    "\n",
    "\n",
    "A4 = A + B\n",
    "A5 = 3*x - 4*y\n",
    "A6 = A @ x\n",
    "A7 = B @ (x-y)\n",
    "A8 = D @ x\n",
    "A9 = D @ y + z\n",
    "A10 = A @ B\n",
    "A11 = B @ C\n",
    "A12 = C @ D\n",
    "print(np.shape(A9))"
   ]
  }
 ],
 "metadata": {
  "kernelspec": {
   "display_name": "Python 3 (ipykernel)",
   "language": "python",
   "name": "python3"
  },
  "language_info": {
   "codemirror_mode": {
    "name": "ipython",
    "version": 3
   },
   "file_extension": ".py",
   "mimetype": "text/x-python",
   "name": "python",
   "nbconvert_exporter": "python",
   "pygments_lexer": "ipython3",
   "version": "3.10.9"
  }
 },
 "nbformat": 4,
 "nbformat_minor": 5
}
